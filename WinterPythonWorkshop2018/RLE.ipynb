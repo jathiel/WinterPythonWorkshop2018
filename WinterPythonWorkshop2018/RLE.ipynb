{
 "cells": [
  {
   "cell_type": "markdown",
   "metadata": {},
   "source": [
    "# Run-length Encoding"
   ]
  },
  {
   "cell_type": "markdown",
   "metadata": {},
   "source": [
    "The function $rle(message)$ encodeds the string $message$ using RLE."
   ]
  },
  {
   "cell_type": "code",
   "execution_count": 225,
   "metadata": {
    "collapsed": false
   },
   "outputs": [],
   "source": [
    "def rle(message):\n",
    "    mylist = []\n",
    "    current = message[0]\n",
    "    count = 1\n",
    "    for char in message[1:]:\n",
    "        if char == current:\n",
    "            count += 1\n",
    "        else:\n",
    "            mylist.append([current,count])\n",
    "            current = char\n",
    "            count = 1\n",
    "    mylist.append([current,count])\n",
    "    return mylist"
   ]
  },
  {
   "cell_type": "markdown",
   "metadata": {},
   "source": [
    "The function $undo\\_rle(encoded)$ undoes the RLE encoding procedure."
   ]
  },
  {
   "cell_type": "code",
   "execution_count": 218,
   "metadata": {
    "collapsed": true
   },
   "outputs": [],
   "source": [
    "def undo_rle(encoded):\n",
    "    string = ''\n",
    "    for item in encoded:\n",
    "        string += item[0]*item[1]\n",
    "    return string"
   ]
  }
 ],
 "metadata": {
  "kernelspec": {
   "display_name": "Python [conda root]",
   "language": "python",
   "name": "conda-root-py"
  },
  "language_info": {
   "codemirror_mode": {
    "name": "ipython",
    "version": 3
   },
   "file_extension": ".py",
   "mimetype": "text/x-python",
   "name": "python",
   "nbconvert_exporter": "python",
   "pygments_lexer": "ipython3",
   "version": "3.5.2"
  }
 },
 "nbformat": 4,
 "nbformat_minor": 1
}
