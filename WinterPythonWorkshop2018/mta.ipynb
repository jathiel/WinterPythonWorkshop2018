{
 "cells": [
  {
   "cell_type": "markdown",
   "metadata": {},
   "source": [
    "# MTA Card Rides Solution"
   ]
  },
  {
   "cell_type": "markdown",
   "metadata": {},
   "source": [
    "The function $mta(n)$ computes the minimum amount of money needed to buy $n$ rides. All computations are done with large numbers to avoid rounding until the very end."
   ]
  },
  {
   "cell_type": "code",
   "execution_count": 75,
   "metadata": {
    "collapsed": true
   },
   "outputs": [],
   "source": [
    "def mta(n):\n",
    "    if n < 3:\n",
    "        return 2.75*n\n",
    "    else:\n",
    "        m = 550\n",
    "        k = 50\n",
    "        while 105*m + k < 27500*n:\n",
    "            m += 5\n",
    "            var = (105*m)%100\n",
    "            if var >= 50:\n",
    "                k = 100-var\n",
    "            else:\n",
    "                k = 0\n",
    "        return m/100"
   ]
  },
  {
   "cell_type": "markdown",
   "metadata": {},
   "source": [
    "The function $remainder(n)$ returns the remaining amount on a metro card after purchasing $n$ rides using the result of $mta(n)$. The solution is periodic, so we simply find the pattern and then write an array containing all possible answers."
   ]
  },
  {
   "cell_type": "code",
   "execution_count": 206,
   "metadata": {
    "collapsed": true
   },
   "outputs": [],
   "source": [
    "def remainder(n):\n",
    "    if n == 1:\n",
    "        return 0\n",
    "    elif n == 2:\n",
    "        return 0.28\n",
    "    else:\n",
    "        arr = [0.05,0.03,0.01,0.04,0.02,0.0,0.03,0.01,0.04,0.02,0.0,0.04,0.02,0.0,0.03,0.01,0.04,0.02,0.0,0.03,0.01]\n",
    "        return arr[(n-3)%len(arr)]"
   ]
  },
  {
   "cell_type": "markdown",
   "metadata": {},
   "source": [
    "The function $fix(money)$ gives the minimum amount greater than \\$5.50 that must be put on the card so that the remaining amount is 0 after a finite number of rides."
   ]
  },
  {
   "cell_type": "code",
   "execution_count": 199,
   "metadata": {
    "collapsed": false
   },
   "outputs": [],
   "source": [
    "def fix(money):\n",
    "    m = 550\n",
    "    k = 50\n",
    "    while (10000*money+105*m + k)%27500:\n",
    "        m += 5\n",
    "        var = (105*m)%100\n",
    "        if var >= 50:\n",
    "            k = 100-var\n",
    "        else:\n",
    "            k = 0\n",
    "    return m/100"
   ]
  }
 ],
 "metadata": {
  "anaconda-cloud": {},
  "kernelspec": {
   "display_name": "Python [conda root]",
   "language": "python",
   "name": "conda-root-py"
  },
  "language_info": {
   "codemirror_mode": {
    "name": "ipython",
    "version": 3
   },
   "file_extension": ".py",
   "mimetype": "text/x-python",
   "name": "python",
   "nbconvert_exporter": "python",
   "pygments_lexer": "ipython3",
   "version": "3.5.2"
  }
 },
 "nbformat": 4,
 "nbformat_minor": 1
}
