{
 "cells": [
  {
   "cell_type": "markdown",
   "metadata": {},
   "source": [
    "# Paths"
   ]
  },
  {
   "cell_type": "markdown",
   "metadata": {},
   "source": [
    "The function $paths(maze)$ counts the number of distinct paths from the start to the end of the maze if we can only move down and to the right."
   ]
  },
  {
   "cell_type": "code",
   "execution_count": 4,
   "metadata": {
    "collapsed": false
   },
   "outputs": [],
   "source": [
    "def paths(maze):\n",
    "    if maze[0][0] == -1 or maze[-1][-1] == -1:\n",
    "        return 0\n",
    "    for i in range(1,len(maze)):\n",
    "        if maze[i][0] != -1:\n",
    "            if maze[i-1][0] >= 0:\n",
    "                maze[i][0] = 1\n",
    "            else:\n",
    "                maze[i][0] = -1            \n",
    "    for j in range(1,len(maze[0])):\n",
    "        if maze[0][j] != -1:\n",
    "            if maze[0][j-1] >= 0:\n",
    "                maze[0][j] = 1\n",
    "            else:\n",
    "                maze[0][j] = -1\n",
    "    for i in range(1,len(maze)):\n",
    "        for j in range(1,len(maze[0])):\n",
    "            if maze[i][j] != -1:\n",
    "                if maze[i-1][j] == -1 and maze[i][j-1] == -1:\n",
    "                    maze[i][j] = -1\n",
    "                else:\n",
    "                    if maze[i-1][j] >= 0:\n",
    "                        maze[i][j] += maze[i-1][j]\n",
    "                    if maze[i][j-1] >= 0:\n",
    "                        maze[i][j] += maze[i][j-1]\n",
    "    for row in maze:\n",
    "        print(row)\n",
    "    if maze[-1][-1] >= 0:\n",
    "        return maze[-1][-1]\n",
    "    else:\n",
    "        return 0"
   ]
  },
  {
   "cell_type": "code",
   "execution_count": 5,
   "metadata": {
    "collapsed": false
   },
   "outputs": [
    {
     "name": "stdout",
     "output_type": "stream",
     "text": [
      "[0, 1, 1, -1, -1, -1, -1, -1]\n",
      "[1, -1, 1, 1, 1, 1, 1, 1]\n",
      "[1, -1, 1, 2, 3, 4, 5, 6]\n",
      "[1, -1, 1, -1, 3, 7, 12, 18]\n",
      "[1, -1, 1, 1, 4, 11, 23, 41]\n"
     ]
    },
    {
     "data": {
      "text/plain": [
       "41"
      ]
     },
     "execution_count": 5,
     "metadata": {},
     "output_type": "execute_result"
    }
   ],
   "source": [
    "paths([[0, 0, 0,-1, 0, 0, 0, 0],\n",
    "       [0,-1, 0, 0, 0, 0, 0, 0],\n",
    "       [0,-1, 0, 0, 0, 0, 0, 0],\n",
    "       [0,-1, 0,-1, 0, 0, 0, 0],\n",
    "       [0,-1, 0, 0, 0, 0, 0, 0]])"
   ]
  },
  {
   "cell_type": "code",
   "execution_count": 6,
   "metadata": {
    "collapsed": false
   },
   "outputs": [
    {
     "name": "stdout",
     "output_type": "stream",
     "text": [
      "[0, 1, 1, 1, 1, 1, 1, 1, 1, 1]\n",
      "[1, 2, 3, 4, 5, 6, 7, 8, 9, 10]\n",
      "[1, 3, 6, 10, 15, 21, 28, 36, 45, 55]\n",
      "[1, 4, 10, 20, 35, 56, 84, 120, 165, 220]\n",
      "[1, 5, 15, 35, 70, 126, 210, 330, 495, 715]\n",
      "[1, 6, 21, 56, 126, 252, 462, 792, 1287, 2002]\n",
      "[1, 7, 28, 84, 210, 462, 924, 1716, 3003, 5005]\n",
      "[1, 8, 36, 120, 330, 792, 1716, 3432, 6435, 11440]\n",
      "[1, 9, 45, 165, 495, 1287, 3003, 6435, 12870, 24310]\n",
      "[1, 10, 55, 220, 715, 2002, 5005, 11440, 24310, 48620]\n"
     ]
    },
    {
     "data": {
      "text/plain": [
       "48620"
      ]
     },
     "execution_count": 6,
     "metadata": {},
     "output_type": "execute_result"
    }
   ],
   "source": [
    "paths([[0]*10 for a in range(10)])"
   ]
  },
  {
   "cell_type": "code",
   "execution_count": null,
   "metadata": {
    "collapsed": true
   },
   "outputs": [],
   "source": []
  }
 ],
 "metadata": {
  "anaconda-cloud": {},
  "kernelspec": {
   "display_name": "Python [conda root]",
   "language": "python",
   "name": "conda-root-py"
  },
  "language_info": {
   "codemirror_mode": {
    "name": "ipython",
    "version": 3
   },
   "file_extension": ".py",
   "mimetype": "text/x-python",
   "name": "python",
   "nbconvert_exporter": "python",
   "pygments_lexer": "ipython3",
   "version": "3.5.2"
  }
 },
 "nbformat": 4,
 "nbformat_minor": 1
}
